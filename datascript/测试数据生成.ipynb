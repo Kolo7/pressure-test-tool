{
 "cells": [
  {
   "cell_type": "code",
   "execution_count": 1,
   "metadata": {},
   "outputs": [],
   "source": [
    "from faker import Faker\n",
    "import faker.providers as prov\n",
    "import time\n",
    "import datetime\n",
    "import json"
   ]
  },
  {
   "cell_type": "markdown",
   "metadata": {},
   "source": [
    "### 生成登录信息"
   ]
  },
  {
   "cell_type": "code",
   "execution_count": 2,
   "metadata": {},
   "outputs": [],
   "source": [
    "def loginInfo(num):\n",
    "    fake = Faker(['zh_CN'])\n",
    "    Faker.seed(time.time())\n",
    "    day = datetime.datetime.now().strftime('%d')\n",
    "    dicts = []\n",
    "    for each in range(num):\n",
    "        temp = {}\n",
    "        temp['xgAppId'] = 'a'+fake.numerify(text=\"######\")\n",
    "        temp['day'] = day\n",
    "        temp['uid'] = 'u'+fake.numerify(text=\"###########\",)\n",
    "        temp['timestamp'] = int(time.time()* 1000)\n",
    "        temp['platform'] = fake.random_element(elements=('ios', 'android'))\n",
    "        temp['deviceId'] = 'd'+fake.numerify(text='###########')\n",
    "        temp['userEnum'] = fake.random_element(elements=('USER','TOURIST'))\n",
    "        temp['certificationEnum'] = fake.random_element(elements=('LESS_EIGHT','EIGHT_SIXTEEN','SIXTEEN_EIGHTEEN','LARGE_EIGHTEEN'))\n",
    "        dicts.append(temp)\n",
    "    return dicts"
   ]
  },
  {
   "cell_type": "markdown",
   "metadata": {},
   "source": [
    "### 生成支付请求信息"
   ]
  },
  {
   "cell_type": "code",
   "execution_count": 3,
   "metadata": {},
   "outputs": [],
   "source": [
    "# 根据登录身份消息生成充值消息\n",
    "def payInfo(dicts):\n",
    "    dicts2 = []\n",
    "    fake = Faker(['zh_CN'])\n",
    "    for each in range(len(dicts)):\n",
    "        temp = dicts[each]\n",
    "        temp['paidAmount'] = fake.random_int(min=0, max=110, step=10)\n",
    "        dicts2.append(temp)\n",
    "    return dicts2"
   ]
  },
  {
   "cell_type": "markdown",
   "metadata": {},
   "source": [
    "# 写入JSON文件"
   ]
  },
  {
   "cell_type": "code",
   "execution_count": 4,
   "metadata": {},
   "outputs": [],
   "source": [
    "def writeFile(num, fileNum):\n",
    "    loginDicts = loginInfo(num)\n",
    "    payDicts = payInfo(loginDicts)\n",
    "    te = num//fileNum\n",
    "    for each in range(fileNum):\n",
    "        d = loginDicts[each*te:(each+1)*te]\n",
    "        with open('login'+str(each)+'.json', 'w') as f:\n",
    "            json.dump(d, f)\n",
    "        d = payDicts[each*te:(each+1)*te]\n",
    "        with open('pay'+str(each)+'.json', 'w') as f:\n",
    "            json.dump(d, f)"
   ]
  },
  {
   "cell_type": "code",
   "execution_count": 6,
   "metadata": {},
   "outputs": [],
   "source": [
    "writeFile(100000, 1)"
   ]
  }
 ],
 "metadata": {
  "kernelspec": {
   "display_name": "Python 3",
   "language": "python",
   "name": "python3"
  },
  "language_info": {
   "codemirror_mode": {
    "name": "ipython",
    "version": 3
   },
   "file_extension": ".py",
   "mimetype": "text/x-python",
   "name": "python",
   "nbconvert_exporter": "python",
   "pygments_lexer": "ipython3",
   "version": "3.7.0"
  }
 },
 "nbformat": 4,
 "nbformat_minor": 2
}
